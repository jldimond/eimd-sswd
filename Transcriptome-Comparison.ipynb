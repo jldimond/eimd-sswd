{
 "cells": [
  {
   "cell_type": "markdown",
   "metadata": {},
   "source": [
    "<img src=\"http://eagle.fish.washington.edu/cnidarian/skitch/Downloads___EchinoBase_1AFC08C4.png\" alt=\"Downloads___EchinoBase_1AFC08C4.png\"/>"
   ]
  },
  {
   "cell_type": "code",
   "execution_count": 2,
   "metadata": {
    "collapsed": false
   },
   "outputs": [
    {
     "name": "stdout",
     "output_type": "stream",
     "text": [
      ">PMI_010847-RA\r\n",
      "ANIEIFLPRIEAVVLFGEPVRWETNLQLILDMLITNGQLNHTPDHVPYPNMPVLGCNVDLMWMSEAHLPRLGHGSFMVCLESLYKKITGRDLLYTVLTGKPSQITYHCAENVLSQQARAMGCQGPLRTLYAIGDNPMTDIYGANLYNQYLTAKAAKGLQKPGSRQPAAIRQGVVMSDPHDDIHIETSAQVDVSDHPVHEIDDHVCESEALMTDNFDDGYPVTMESVLVYTGLHSKPGEVGQMDEAHLELDHGHRDFEFNKALIQPTITAQHVRDAVDIIFDREGFK\r\n",
      ">PMI_010846-RA\r\n",
      "MAAAARSLQRILPRNCSHLKNCISVFNHPKRFFSIRTELHSKHPPFGILFDIDGVIVRGKRILHEAVEAFQKLSDGEGHLRVPVVFVTNAGNKLRQNKAKQLTEWLGIKIHPDQVVMSHSPLKMFPQFHDKHVLVSGQGPIKEIAKGLGFTRVTTVEEVRDMFPHLDMVDHQRRVPAPNV\r\n",
      ">PMI_010849-RA\r\n",
      "MFQTRSEYDRGVNTFSPEGRLFQVEYAIEAIKLGSTALGIQTSEGCVLAVEKRITSPLMEISSIEKIVEVDNHIGCAMSGLIADSRTLIDRARVEAQSHWFTYNEKMSIEAVTQAVSNLAMQFGDDDADSGAMIPHGSIRHIHSSMTLKEACKEALVILKQVMEEKLSSTNVEMATVTREKKFVMFTKEEIEAIVAEM\r\n",
      ">PMI_010848-RA\r\n",
      "MSYPYHMESDDSFDYLFKIVLIGDAGVGKTCVVQRFKSGTFLEKQHSTIGVDFTMKSLTVDGKKVKLQVWDTAGQERFRTITQSYYRSANGVIIAYDITKKETFNNVPRWIEDVHKYAGNSVAQVLIGNKKDLDELRQVDFEDAQAIAQHHGMLQCLETSAKDSTNVEQTFALLAQELKRRHAGGAALDGGDSLKLNYNAKRVDGWNCCG\r\n",
      ">PMI_010850-RA\r\n",
      "MQTSGGQDHLCINPEIYCKKIQGTSVRSTSSDLPQRKYQRQLSIAMATSLGARKPTSIQRPKRWSEEVEEAYRLQLAGYRDALEYHSVKGESGYIKKLQRKDGNYYYYNRSRECADKDVNKIKLYGY\r\n"
     ]
    }
   ],
   "source": [
    "!head ./data/Pm_proteins.fasta"
   ]
  },
  {
   "cell_type": "code",
   "execution_count": 3,
   "metadata": {
    "collapsed": false
   },
   "outputs": [
    {
     "name": "stdout",
     "output_type": "stream",
     "text": [
      "29805\r\n"
     ]
    }
   ],
   "source": [
    "!fgrep -c \">\" ./data/Pm_proteins.fasta"
   ]
  },
  {
   "cell_type": "code",
   "execution_count": 6,
   "metadata": {
    "collapsed": false
   },
   "outputs": [
    {
     "name": "stdout",
     "output_type": "stream",
     "text": [
      "\n",
      "\n",
      "Building a new DB, current time: 05/07/2015 14:00:57\n",
      "New DB name:   ./data/Pm_proteins\n",
      "New DB title:  ./data/Pm_proteins.fasta\n",
      "Sequence type: Protein\n",
      "Keep Linkouts: T\n",
      "Keep MBits: T\n",
      "Maximum file size: 1000000000B\n",
      "Adding sequences from FASTA; added 29805 sequences in 0.830811 seconds.\n"
     ]
    }
   ],
   "source": [
    "!makeblastdb \\\n",
    "-in ./data/Pm_proteins.fasta \\\n",
    "-dbtype prot \\\n",
    "-out ./data/Pm_proteins"
   ]
  },
  {
   "cell_type": "code",
   "execution_count": 7,
   "metadata": {
    "collapsed": true
   },
   "outputs": [],
   "source": [
    "!blastx \\\n",
    "-query ./data/Phel_transcriptome.fasta \\\n",
    "-db ./data/Pm_proteins \\\n",
    "-out ./wd/Phel_blastx_Pm.tab \\\n",
    "-evalue 1E-05 \\\n",
    "-max_target_seqs 1 \\\n",
    "-max_hsps 1 \\\n",
    "-outfmt 6 \\\n",
    "-num_threads 6"
   ]
  },
  {
   "cell_type": "code",
   "execution_count": 8,
   "metadata": {
    "collapsed": false
   },
   "outputs": [
    {
     "name": "stdout",
     "output_type": "stream",
     "text": [
      "Phel_contig_10\tPMI_012203-RA\t31.87\t160\t84\t8\t397\t855\t117\t258\t6e-14\t72.4\r\n",
      "Phel_contig_100\tPMI_000464-RA\t75.80\t500\t67\t6\t9607\t8120\t13\t462\t0.0\t  686\r\n",
      "Phel_contig_1000\tPMI_015227-RA\t72.94\t436\t117\t1\t205\t1512\t31\t465\t0.0\t  604\r\n",
      "Phel_contig_10002\tPMI_022942-RA\t57.14\t63\t27\t0\t2997\t2809\t77\t139\t2e-16\t81.3\r\n",
      "Phel_contig_10004\tPMI_005905-RA\t71.64\t67\t18\t1\t222\t422\t50\t115\t5e-22\t89.0\r\n",
      "Phel_contig_10005\tPMI_012296-RA\t39.82\t113\t63\t4\t1311\t979\t349\t458\t5e-15\t76.6\r\n",
      "Phel_contig_10006\tPMI_015289-RB\t90.64\t267\t25\t0\t828\t28\t352\t618\t1e-160\t  467\r\n",
      "Phel_contig_10011\tPMI_028962-RA\t47.47\t198\t86\t2\t1472\t879\t31\t210\t5e-41\t  148\r\n",
      "Phel_contig_10021\tPMI_024230-RA\t88.44\t147\t9\t1\t1394\t1834\t1\t139\t2e-70\t  231\r\n",
      "Phel_contig_10025\tPMI_019960-RA\t72.00\t75\t19\t1\t270\t494\t19\t91\t5e-30\t  120\r\n"
     ]
    }
   ],
   "source": [
    "!head ./wd/Phel_blastx_Pm.tab"
   ]
  },
  {
   "cell_type": "code",
   "execution_count": 13,
   "metadata": {
    "collapsed": false
   },
   "outputs": [
    {
     "name": "stdout",
     "output_type": "stream",
     "text": [
      "   7 PMI_026747-RA\r\n",
      "   7 PMI_026917-RA\r\n",
      "   7 PMI_028800-RA\r\n",
      "   8 PMI_005573-RA\r\n",
      "   8 PMI_007768-RA\r\n",
      "   8 PMI_007833-RA\r\n",
      "   8 PMI_015266-RA\r\n",
      "   8 PMI_020859-RA\r\n",
      "   8 PMI_025724-RA\r\n",
      "   9 PMI_003890-RA\r\n",
      "   9 PMI_008059-RA\r\n",
      "   9 PMI_010001-RA\r\n",
      "   9 PMI_017390-RA\r\n",
      "   9 PMI_028724-RA\r\n",
      "  10 PMI_000616-RA\r\n",
      "  10 PMI_009065-RA\r\n",
      "  10 PMI_020714-RA\r\n",
      "  10 PMI_020938-RA\r\n",
      "  12 PMI_027965-RA\r\n",
      "  15 PMI_029345-RA\r\n"
     ]
    }
   ],
   "source": [
    "!cut -f2 ./wd/Phel_blastx_Pm.tab | sort | uniq -c | sort |tail -20"
   ]
  },
  {
   "cell_type": "code",
   "execution_count": 11,
   "metadata": {
    "collapsed": true
   },
   "outputs": [],
   "source": [
    "!blastx \\\n",
    "-query ./data/Phel_transcriptome.fasta \\\n",
    "-db ./data/Pm_proteins \\\n",
    "-out ./wd/Phel_blastx_Pm_e50.tab \\\n",
    "-evalue 1E-50 \\\n",
    "-max_target_seqs 1 \\\n",
    "-max_hsps 1 \\\n",
    "-outfmt 6 \\\n",
    "-num_threads 6"
   ]
  },
  {
   "cell_type": "code",
   "execution_count": 14,
   "metadata": {
    "collapsed": false
   },
   "outputs": [
    {
     "name": "stdout",
     "output_type": "stream",
     "text": [
      "   4 PMI_013431-RA\r\n",
      "   4 PMI_014231-RA\r\n",
      "   4 PMI_015829-RA\r\n",
      "   4 PMI_019590-RA\r\n",
      "   4 PMI_020714-RA\r\n",
      "   4 PMI_020736-RA\r\n",
      "   4 PMI_023204-RA\r\n",
      "   4 PMI_025724-RA\r\n",
      "   4 PMI_028024-RA\r\n",
      "   5 PMI_000929-RA\r\n",
      "   5 PMI_001602-RA\r\n",
      "   5 PMI_003081-RA\r\n",
      "   5 PMI_017390-RA\r\n",
      "   5 PMI_019456-RA\r\n",
      "   6 PMI_000110-RA\r\n",
      "   6 PMI_013600-RA\r\n",
      "   7 PMI_010001-RA\r\n",
      "   7 PMI_020859-RA\r\n",
      "   8 PMI_015266-RA\r\n",
      "  10 PMI_029345-RA\r\n"
     ]
    }
   ],
   "source": [
    "!cut -f2 ./wd/Phel_blastx_Pm_e50.tab | sort | uniq -c | sort |tail -20"
   ]
  },
  {
   "cell_type": "code",
   "execution_count": 15,
   "metadata": {
    "collapsed": false
   },
   "outputs": [
    {
     "name": "stdout",
     "output_type": "stream",
     "text": [
      "   3 PMI_009065-RA\r\n",
      "   3 PMI_009500-RA\r\n",
      "   3 PMI_011382-RA\r\n",
      "   3 PMI_013272-RA\r\n",
      "   3 PMI_013665-RA\r\n",
      "   3 PMI_015266-RA\r\n",
      "   3 PMI_017504-RA\r\n",
      "   3 PMI_018991-RA\r\n",
      "   3 PMI_020736-RA\r\n",
      "   3 PMI_023204-RA\r\n",
      "   4 PMI_000929-RA\r\n",
      "   4 PMI_001563-RA\r\n",
      "   4 PMI_001602-RA\r\n",
      "   4 PMI_003081-RA\r\n",
      "   4 PMI_004455-RA\r\n",
      "   4 PMI_009071-RA\r\n",
      "   4 PMI_015829-RA\r\n",
      "   4 PMI_028024-RA\r\n",
      "   5 PMI_000110-RA\r\n",
      "   7 PMI_020859-RA\r\n"
     ]
    }
   ],
   "source": [
    "!blastx \\\n",
    "-query ./data/Phel_transcriptome.fasta \\\n",
    "-db ./data/Pm_proteins \\\n",
    "-out ./wd/Phel_blastx_Pm_e100.tab \\\n",
    "-evalue 1E-100 \\\n",
    "-max_target_seqs 1 \\\n",
    "-max_hsps 1 \\\n",
    "-outfmt 6 \\\n",
    "-num_threads 6\n",
    "!cut -f2 ./wd/Phel_blastx_Pm_e100.tab | sort | uniq -c | sort | tail -20"
   ]
  },
  {
   "cell_type": "code",
   "execution_count": null,
   "metadata": {
    "collapsed": true
   },
   "outputs": [],
   "source": []
  }
 ],
 "metadata": {
  "kernelspec": {
   "display_name": "Python 2",
   "language": "python",
   "name": "python2"
  },
  "language_info": {
   "codemirror_mode": {
    "name": "ipython",
    "version": 2
   },
   "file_extension": ".py",
   "mimetype": "text/x-python",
   "name": "python",
   "nbconvert_exporter": "python",
   "pygments_lexer": "ipython2",
   "version": "2.7.9"
  }
 },
 "nbformat": 4,
 "nbformat_minor": 0
}
