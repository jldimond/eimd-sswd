{
 "cells": [
  {
   "cell_type": "markdown",
   "metadata": {},
   "source": [
    "<img src=\"http://eagle.fish.washington.edu/cnidarian/skitch/Downloads___EchinoBase_1AFC08C4.png\" alt=\"Downloads___EchinoBase_1AFC08C4.png\"/>"
   ]
  },
  {
   "cell_type": "code",
   "execution_count": 2,
   "metadata": {
    "collapsed": false
   },
   "outputs": [
    {
     "name": "stdout",
     "output_type": "stream",
     "text": [
      ">PMI_010847-RA\r\n",
      "ANIEIFLPRIEAVVLFGEPVRWETNLQLILDMLITNGQLNHTPDHVPYPNMPVLGCNVDLMWMSEAHLPRLGHGSFMVCLESLYKKITGRDLLYTVLTGKPSQITYHCAENVLSQQARAMGCQGPLRTLYAIGDNPMTDIYGANLYNQYLTAKAAKGLQKPGSRQPAAIRQGVVMSDPHDDIHIETSAQVDVSDHPVHEIDDHVCESEALMTDNFDDGYPVTMESVLVYTGLHSKPGEVGQMDEAHLELDHGHRDFEFNKALIQPTITAQHVRDAVDIIFDREGFK\r\n",
      ">PMI_010846-RA\r\n",
      "MAAAARSLQRILPRNCSHLKNCISVFNHPKRFFSIRTELHSKHPPFGILFDIDGVIVRGKRILHEAVEAFQKLSDGEGHLRVPVVFVTNAGNKLRQNKAKQLTEWLGIKIHPDQVVMSHSPLKMFPQFHDKHVLVSGQGPIKEIAKGLGFTRVTTVEEVRDMFPHLDMVDHQRRVPAPNV\r\n",
      ">PMI_010849-RA\r\n",
      "MFQTRSEYDRGVNTFSPEGRLFQVEYAIEAIKLGSTALGIQTSEGCVLAVEKRITSPLMEISSIEKIVEVDNHIGCAMSGLIADSRTLIDRARVEAQSHWFTYNEKMSIEAVTQAVSNLAMQFGDDDADSGAMIPHGSIRHIHSSMTLKEACKEALVILKQVMEEKLSSTNVEMATVTREKKFVMFTKEEIEAIVAEM\r\n",
      ">PMI_010848-RA\r\n",
      "MSYPYHMESDDSFDYLFKIVLIGDAGVGKTCVVQRFKSGTFLEKQHSTIGVDFTMKSLTVDGKKVKLQVWDTAGQERFRTITQSYYRSANGVIIAYDITKKETFNNVPRWIEDVHKYAGNSVAQVLIGNKKDLDELRQVDFEDAQAIAQHHGMLQCLETSAKDSTNVEQTFALLAQELKRRHAGGAALDGGDSLKLNYNAKRVDGWNCCG\r\n",
      ">PMI_010850-RA\r\n",
      "MQTSGGQDHLCINPEIYCKKIQGTSVRSTSSDLPQRKYQRQLSIAMATSLGARKPTSIQRPKRWSEEVEEAYRLQLAGYRDALEYHSVKGESGYIKKLQRKDGNYYYYNRSRECADKDVNKIKLYGY\r\n"
     ]
    }
   ],
   "source": [
    "!head ./data/Pm_proteins.fasta"
   ]
  },
  {
   "cell_type": "code",
   "execution_count": 3,
   "metadata": {
    "collapsed": false
   },
   "outputs": [
    {
     "name": "stdout",
     "output_type": "stream",
     "text": [
      "29805\r\n"
     ]
    }
   ],
   "source": [
    "!fgrep -c \">\" ./data/Pm_proteins.fasta"
   ]
  },
  {
   "cell_type": "code",
   "execution_count": 6,
   "metadata": {
    "collapsed": false
   },
   "outputs": [
    {
     "name": "stdout",
     "output_type": "stream",
     "text": [
      "\n",
      "\n",
      "Building a new DB, current time: 05/07/2015 14:00:57\n",
      "New DB name:   ./data/Pm_proteins\n",
      "New DB title:  ./data/Pm_proteins.fasta\n",
      "Sequence type: Protein\n",
      "Keep Linkouts: T\n",
      "Keep MBits: T\n",
      "Maximum file size: 1000000000B\n",
      "Adding sequences from FASTA; added 29805 sequences in 0.830811 seconds.\n"
     ]
    }
   ],
   "source": [
    "!makeblastdb \\\n",
    "-in ./data/Pm_proteins.fasta \\\n",
    "-dbtype prot \\\n",
    "-out ./data/Pm_proteins"
   ]
  },
  {
   "cell_type": "code",
   "execution_count": null,
   "metadata": {
    "collapsed": true
   },
   "outputs": [],
   "source": [
    "!blastx \\\n",
    "-query ./data/Phel_transcriptome.fasta \\\n",
    "-db ./data/Pm_proteins \\\n",
    "-out ./wd/Phel_blastx_Pm.tab \\\n",
    "-evalue 1E-05 \\\n",
    "-max_target_seqs 1 \\\n",
    "-max_hsps 1 \\\n",
    "-outfmt 6 \\\n",
    "-num_threads 8"
   ]
  }
 ],
 "metadata": {
  "kernelspec": {
   "display_name": "Python 2",
   "language": "python",
   "name": "python2"
  },
  "language_info": {
   "codemirror_mode": {
    "name": "ipython",
    "version": 2
   },
   "file_extension": ".py",
   "mimetype": "text/x-python",
   "name": "python",
   "nbconvert_exporter": "python",
   "pygments_lexer": "ipython2",
   "version": "2.7.9"
  }
 },
 "nbformat": 4,
 "nbformat_minor": 0
}
