{
 "cells": [
  {
   "cell_type": "markdown",
   "metadata": {},
   "source": [
    "<img src=\"http://eagle.fish.washington.edu/cnidarian/skitch/Downloads___EchinoBase_1AFC08C4.png\" alt=\"Downloads___EchinoBase_1AFC08C4.png\"/>"
   ]
  },
  {
   "cell_type": "code",
   "execution_count": 2,
   "metadata": {
    "collapsed": false
   },
   "outputs": [
    {
     "name": "stdout",
     "output_type": "stream",
     "text": [
      ">PMI_010847-RA\r\n",
      "ANIEIFLPRIEAVVLFGEPVRWETNLQLILDMLITNGQLNHTPDHVPYPNMPVLGCNVDLMWMSEAHLPRLGHGSFMVCLESLYKKITGRDLLYTVLTGKPSQITYHCAENVLSQQARAMGCQGPLRTLYAIGDNPMTDIYGANLYNQYLTAKAAKGLQKPGSRQPAAIRQGVVMSDPHDDIHIETSAQVDVSDHPVHEIDDHVCESEALMTDNFDDGYPVTMESVLVYTGLHSKPGEVGQMDEAHLELDHGHRDFEFNKALIQPTITAQHVRDAVDIIFDREGFK\r\n",
      ">PMI_010846-RA\r\n",
      "MAAAARSLQRILPRNCSHLKNCISVFNHPKRFFSIRTELHSKHPPFGILFDIDGVIVRGKRILHEAVEAFQKLSDGEGHLRVPVVFVTNAGNKLRQNKAKQLTEWLGIKIHPDQVVMSHSPLKMFPQFHDKHVLVSGQGPIKEIAKGLGFTRVTTVEEVRDMFPHLDMVDHQRRVPAPNV\r\n",
      ">PMI_010849-RA\r\n",
      "MFQTRSEYDRGVNTFSPEGRLFQVEYAIEAIKLGSTALGIQTSEGCVLAVEKRITSPLMEISSIEKIVEVDNHIGCAMSGLIADSRTLIDRARVEAQSHWFTYNEKMSIEAVTQAVSNLAMQFGDDDADSGAMIPHGSIRHIHSSMTLKEACKEALVILKQVMEEKLSSTNVEMATVTREKKFVMFTKEEIEAIVAEM\r\n",
      ">PMI_010848-RA\r\n",
      "MSYPYHMESDDSFDYLFKIVLIGDAGVGKTCVVQRFKSGTFLEKQHSTIGVDFTMKSLTVDGKKVKLQVWDTAGQERFRTITQSYYRSANGVIIAYDITKKETFNNVPRWIEDVHKYAGNSVAQVLIGNKKDLDELRQVDFEDAQAIAQHHGMLQCLETSAKDSTNVEQTFALLAQELKRRHAGGAALDGGDSLKLNYNAKRVDGWNCCG\r\n",
      ">PMI_010850-RA\r\n",
      "MQTSGGQDHLCINPEIYCKKIQGTSVRSTSSDLPQRKYQRQLSIAMATSLGARKPTSIQRPKRWSEEVEEAYRLQLAGYRDALEYHSVKGESGYIKKLQRKDGNYYYYNRSRECADKDVNKIKLYGY\r\n"
     ]
    }
   ],
   "source": [
    "!head ./data/Pm_proteins.fasta"
   ]
  },
  {
   "cell_type": "code",
   "execution_count": 3,
   "metadata": {
    "collapsed": false
   },
   "outputs": [
    {
     "name": "stdout",
     "output_type": "stream",
     "text": [
      "29805\r\n"
     ]
    }
   ],
   "source": [
    "!fgrep -c \">\" ./data/Pm_proteins.fasta"
   ]
  },
  {
   "cell_type": "code",
   "execution_count": 6,
   "metadata": {
    "collapsed": false
   },
   "outputs": [
    {
     "name": "stdout",
     "output_type": "stream",
     "text": [
      "\n",
      "\n",
      "Building a new DB, current time: 05/07/2015 14:00:57\n",
      "New DB name:   ./data/Pm_proteins\n",
      "New DB title:  ./data/Pm_proteins.fasta\n",
      "Sequence type: Protein\n",
      "Keep Linkouts: T\n",
      "Keep MBits: T\n",
      "Maximum file size: 1000000000B\n",
      "Adding sequences from FASTA; added 29805 sequences in 0.830811 seconds.\n"
     ]
    }
   ],
   "source": [
    "!makeblastdb \\\n",
    "-in ./data/Pm_proteins.fasta \\\n",
    "-dbtype prot \\\n",
    "-out ./data/Pm_proteins"
   ]
  },
  {
   "cell_type": "code",
   "execution_count": 7,
   "metadata": {
    "collapsed": true
   },
   "outputs": [],
   "source": [
    "!blastx \\\n",
    "-query ./data/Phel_transcriptome.fasta \\\n",
    "-db ./data/Pm_proteins \\\n",
    "-out ./wd/Phel_blastx_Pm.tab \\\n",
    "-evalue 1E-05 \\\n",
    "-max_target_seqs 1 \\\n",
    "-max_hsps 1 \\\n",
    "-outfmt 6 \\\n",
    "-num_threads 6"
   ]
  },
  {
   "cell_type": "code",
   "execution_count": 8,
   "metadata": {
    "collapsed": false
   },
   "outputs": [
    {
     "name": "stdout",
     "output_type": "stream",
     "text": [
      "Phel_contig_10\tPMI_012203-RA\t31.87\t160\t84\t8\t397\t855\t117\t258\t6e-14\t72.4\r\n",
      "Phel_contig_100\tPMI_000464-RA\t75.80\t500\t67\t6\t9607\t8120\t13\t462\t0.0\t  686\r\n",
      "Phel_contig_1000\tPMI_015227-RA\t72.94\t436\t117\t1\t205\t1512\t31\t465\t0.0\t  604\r\n",
      "Phel_contig_10002\tPMI_022942-RA\t57.14\t63\t27\t0\t2997\t2809\t77\t139\t2e-16\t81.3\r\n",
      "Phel_contig_10004\tPMI_005905-RA\t71.64\t67\t18\t1\t222\t422\t50\t115\t5e-22\t89.0\r\n",
      "Phel_contig_10005\tPMI_012296-RA\t39.82\t113\t63\t4\t1311\t979\t349\t458\t5e-15\t76.6\r\n",
      "Phel_contig_10006\tPMI_015289-RB\t90.64\t267\t25\t0\t828\t28\t352\t618\t1e-160\t  467\r\n",
      "Phel_contig_10011\tPMI_028962-RA\t47.47\t198\t86\t2\t1472\t879\t31\t210\t5e-41\t  148\r\n",
      "Phel_contig_10021\tPMI_024230-RA\t88.44\t147\t9\t1\t1394\t1834\t1\t139\t2e-70\t  231\r\n",
      "Phel_contig_10025\tPMI_019960-RA\t72.00\t75\t19\t1\t270\t494\t19\t91\t5e-30\t  120\r\n"
     ]
    }
   ],
   "source": [
    "!head ./wd/Phel_blastx_Pm.tab"
   ]
  },
  {
   "cell_type": "code",
   "execution_count": 13,
   "metadata": {
    "collapsed": false
   },
   "outputs": [
    {
     "name": "stdout",
     "output_type": "stream",
     "text": [
      "   7 PMI_026747-RA\r\n",
      "   7 PMI_026917-RA\r\n",
      "   7 PMI_028800-RA\r\n",
      "   8 PMI_005573-RA\r\n",
      "   8 PMI_007768-RA\r\n",
      "   8 PMI_007833-RA\r\n",
      "   8 PMI_015266-RA\r\n",
      "   8 PMI_020859-RA\r\n",
      "   8 PMI_025724-RA\r\n",
      "   9 PMI_003890-RA\r\n",
      "   9 PMI_008059-RA\r\n",
      "   9 PMI_010001-RA\r\n",
      "   9 PMI_017390-RA\r\n",
      "   9 PMI_028724-RA\r\n",
      "  10 PMI_000616-RA\r\n",
      "  10 PMI_009065-RA\r\n",
      "  10 PMI_020714-RA\r\n",
      "  10 PMI_020938-RA\r\n",
      "  12 PMI_027965-RA\r\n",
      "  15 PMI_029345-RA\r\n"
     ]
    }
   ],
   "source": [
    "!cut -f2 ./wd/Phel_blastx_Pm.tab | sort | uniq -c | sort |tail -20"
   ]
  },
  {
   "cell_type": "code",
   "execution_count": 11,
   "metadata": {
    "collapsed": true
   },
   "outputs": [],
   "source": [
    "!blastx \\\n",
    "-query ./data/Phel_transcriptome.fasta \\\n",
    "-db ./data/Pm_proteins \\\n",
    "-out ./wd/Phel_blastx_Pm_e50.tab \\\n",
    "-evalue 1E-50 \\\n",
    "-max_target_seqs 1 \\\n",
    "-max_hsps 1 \\\n",
    "-outfmt 6 \\\n",
    "-num_threads 6"
   ]
  },
  {
   "cell_type": "code",
   "execution_count": 1,
   "metadata": {
    "collapsed": false
   },
   "outputs": [
    {
     "name": "stdout",
     "output_type": "stream",
     "text": [
      "   3 PMI_014803-RA\r\n",
      "   3 PMI_015090-RA\r\n",
      "   3 PMI_015797-RA\r\n",
      "   3 PMI_015842-RA\r\n",
      "   3 PMI_016484-RA\r\n",
      "   3 PMI_017062-RA\r\n",
      "   3 PMI_017378-RA\r\n",
      "   3 PMI_017504-RA\r\n",
      "   3 PMI_018404-RA\r\n",
      "   3 PMI_018991-RA\r\n",
      "   3 PMI_019153-RA\r\n",
      "   3 PMI_019282-RA\r\n",
      "   3 PMI_019837-RA\r\n",
      "   3 PMI_019852-RA\r\n",
      "   3 PMI_019922-RA\r\n",
      "   3 PMI_020903-RA\r\n",
      "   3 PMI_022246-RA\r\n",
      "   3 PMI_022355-RA\r\n",
      "   3 PMI_024176-RA\r\n",
      "   4 PMI_001483-RA\r\n",
      "   4 PMI_001563-RA\r\n",
      "   4 PMI_002180-RA\r\n",
      "   4 PMI_004455-RA\r\n",
      "   4 PMI_005573-RA\r\n",
      "   4 PMI_006047-RA\r\n",
      "   4 PMI_006887-RA\r\n",
      "   4 PMI_006996-RA\r\n",
      "   4 PMI_007831-RA\r\n",
      "   4 PMI_009065-RA\r\n",
      "   4 PMI_009071-RA\r\n",
      "   4 PMI_013431-RA\r\n",
      "   4 PMI_014231-RA\r\n",
      "   4 PMI_015829-RA\r\n",
      "   4 PMI_019590-RA\r\n",
      "   4 PMI_020714-RA\r\n",
      "   4 PMI_020736-RA\r\n",
      "   4 PMI_023204-RA\r\n",
      "   4 PMI_025724-RA\r\n",
      "   4 PMI_028024-RA\r\n",
      "   5 PMI_000929-RA\r\n",
      "   5 PMI_001602-RA\r\n",
      "   5 PMI_003081-RA\r\n",
      "   5 PMI_017390-RA\r\n",
      "   5 PMI_019456-RA\r\n",
      "   6 PMI_000110-RA\r\n",
      "   6 PMI_013600-RA\r\n",
      "   7 PMI_010001-RA\r\n",
      "   7 PMI_020859-RA\r\n",
      "   8 PMI_015266-RA\r\n",
      "  10 PMI_029345-RA\r\n"
     ]
    }
   ],
   "source": [
    "!cut -f2 ./wd/Phel_blastx_Pm_e50.tab | sort | uniq -c | sort |tail -50"
   ]
  },
  {
   "cell_type": "code",
   "execution_count": 2,
   "metadata": {
    "collapsed": true
   },
   "outputs": [],
   "source": [
    "!cut -f2 ./wd/Phel_blastx_Pm_e50.tab | sort | uniq -c | sort \\\n",
    "> ./wd/Duphits_Phel_blastx_Pm_e50.tab"
   ]
  },
  {
   "cell_type": "code",
   "execution_count": 9,
   "metadata": {
    "collapsed": false
   },
   "outputs": [
    {
     "name": "stdout",
     "output_type": "stream",
     "text": [
      "   3 PMI_014803-RA\r\n",
      "   3 PMI_015090-RA\r\n",
      "   3 PMI_015797-RA\r\n",
      "   3 PMI_015842-RA\r\n",
      "   3 PMI_016484-RA\r\n",
      "   3 PMI_017062-RA\r\n",
      "   3 PMI_017378-RA\r\n",
      "   3 PMI_017504-RA\r\n",
      "   3 PMI_018404-RA\r\n",
      "   3 PMI_018991-RA\r\n",
      "   3 PMI_019153-RA\r\n",
      "   3 PMI_019282-RA\r\n",
      "   3 PMI_019837-RA\r\n",
      "   3 PMI_019852-RA\r\n",
      "   3 PMI_019922-RA\r\n",
      "   3 PMI_020903-RA\r\n",
      "   3 PMI_022246-RA\r\n",
      "   3 PMI_022355-RA\r\n",
      "   3 PMI_024176-RA\r\n",
      "   4 PMI_001483-RA\r\n",
      "   4 PMI_001563-RA\r\n",
      "   4 PMI_002180-RA\r\n",
      "   4 PMI_004455-RA\r\n",
      "   4 PMI_005573-RA\r\n",
      "   4 PMI_006047-RA\r\n",
      "   4 PMI_006887-RA\r\n",
      "   4 PMI_006996-RA\r\n",
      "   4 PMI_007831-RA\r\n",
      "   4 PMI_009065-RA\r\n",
      "   4 PMI_009071-RA\r\n",
      "   4 PMI_013431-RA\r\n",
      "   4 PMI_014231-RA\r\n",
      "   4 PMI_015829-RA\r\n",
      "   4 PMI_019590-RA\r\n",
      "   4 PMI_020714-RA\r\n",
      "   4 PMI_020736-RA\r\n",
      "   4 PMI_023204-RA\r\n",
      "   4 PMI_025724-RA\r\n",
      "   4 PMI_028024-RA\r\n",
      "   5 PMI_000929-RA\r\n",
      "   5 PMI_001602-RA\r\n",
      "   5 PMI_003081-RA\r\n",
      "   5 PMI_017390-RA\r\n",
      "   5 PMI_019456-RA\r\n",
      "   6 PMI_000110-RA\r\n",
      "   6 PMI_013600-RA\r\n",
      "   7 PMI_010001-RA\r\n",
      "   7 PMI_020859-RA\r\n",
      "   8 PMI_015266-RA\r\n",
      "  10 PMI_029345-RA\r\n"
     ]
    }
   ],
   "source": [
    "!tail -50 ./wd/Duphits_Phel_blastx_Pm_e50.tab \n"
   ]
  },
  {
   "cell_type": "code",
   "execution_count": 10,
   "metadata": {
    "collapsed": false
   },
   "outputs": [
    {
     "name": "stdout",
     "output_type": "stream",
     "text": [
      "Phel_contig_100\tPMI_000464-RA\t75.80\t500\t67\t6\t9607\t8120\t13\t462\t0.0\t  686\r\n",
      "Phel_contig_1000\tPMI_015227-RA\t72.94\t436\t117\t1\t205\t1512\t31\t465\t0.0\t  604\r\n",
      "Phel_contig_10006\tPMI_015289-RB\t90.64\t267\t25\t0\t828\t28\t352\t618\t1e-160\t  467\r\n",
      "Phel_contig_10021\tPMI_024230-RA\t88.44\t147\t9\t1\t1394\t1834\t1\t139\t2e-70\t  231\r\n",
      "Phel_contig_10030\tPMI_027421-RA\t82.67\t150\t26\t0\t1998\t1549\t1\t150\t6e-83\t  266\r\n",
      "Phel_contig_10031\tPMI_012814-RA\t53.83\t483\t209\t5\t110\t1528\t1\t479\t9e-160\t  473\r\n",
      "Phel_contig_10034\tPMI_011247-RA\t82.89\t643\t98\t3\t3257\t1338\t1\t634\t0.0\t 1041\r\n",
      "Phel_contig_10040\tPMI_010606-RA\t69.52\t456\t74\t5\t1948\t614\t45\t446\t0.0\t  602\r\n",
      "Phel_contig_10044\tPMI_017390-RA\t49.22\t256\t120\t5\t756\t1\t644\t893\t3e-62\t  226\r\n",
      "Phel_contig_10049\tPMI_001870-RA\t77.59\t415\t91\t2\t1674\t430\t1\t413\t0.0\t  682\r\n"
     ]
    }
   ],
   "source": [
    "!head ./wd/Phel_blastx_Pm_e50.tab"
   ]
  },
  {
   "cell_type": "code",
   "execution_count": 11,
   "metadata": {
    "collapsed": false
   },
   "outputs": [
    {
     "name": "stdout",
     "output_type": "stream",
     "text": [
      "Phel_contig_15878\tPMI_001483-RA\t69.18\t584\t122\t9\t1070\t2656\t2399\t2979\t0.0\t  626\r\n",
      "Phel_contig_17263\tPMI_001483-RA\t85.71\t245\t35\t0\t2\t736\t1041\t1285\t1e-140\t  439\r\n",
      "Phel_contig_18735\tPMI_001483-RA\t94.40\t125\t7\t0\t95\t469\t14\t138\t4e-76\t  251\r\n",
      "Phel_contig_22925\tPMI_001483-RA\t77.71\t314\t54\t7\t1\t936\t1416\t1715\t2e-133\t  423\r\n"
     ]
    }
   ],
   "source": [
    "!fgrep \"PMI_001483-RA\" ./wd/Phel_blastx_Pm_e50.tab"
   ]
  },
  {
   "cell_type": "code",
   "execution_count": 13,
   "metadata": {
    "collapsed": true
   },
   "outputs": [
    {
     "name": "stdout",
     "output_type": "stream",
     "text": [
      "USAGE\r\n",
      "  blastx [-h] [-help] [-import_search_strategy filename]\r\n",
      "    [-export_search_strategy filename] [-task task_name] [-db database_name]\r\n",
      "    [-dbsize num_letters] [-gilist filename] [-seqidlist filename]\r\n",
      "    [-negative_gilist filename] [-entrez_query entrez_query]\r\n",
      "    [-db_soft_mask filtering_algorithm] [-db_hard_mask filtering_algorithm]\r\n",
      "    [-subject subject_input_file] [-subject_loc range] [-query input_file]\r\n",
      "    [-out output_file] [-evalue evalue] [-word_size int_value]\r\n",
      "    [-gapopen open_penalty] [-gapextend extend_penalty]\r\n",
      "    [-qcov_hsp_perc float_value] [-xdrop_ungap float_value]\r\n",
      "    [-xdrop_gap float_value] [-xdrop_gap_final float_value]\r\n",
      "    [-searchsp int_value] [-max_hsps int_value] [-sum_stats bool_value]\r\n",
      "    [-max_intron_length length] [-seg SEG_options]\r\n",
      "    [-soft_masking soft_masking] [-matrix matrix_name]\r\n",
      "    [-threshold float_value] [-culling_limit int_value]\r\n",
      "    [-best_hit_overhang float_value] [-best_hit_score_edge float_value]\r\n",
      "    [-window_size int_value] [-ungapped] [-lcase_masking] [-query_loc range]\r\n",
      "    [-strand strand] [-parse_deflines] [-query_gencode int_value]\r\n",
      "    [-outfmt format] [-show_gis] [-num_descriptions int_value]\r\n",
      "    [-num_alignments int_value] [-line_length line_length] [-html]\r\n",
      "    [-max_target_seqs num_sequences] [-num_threads int_value] [-remote]\r\n",
      "    [-comp_based_stats compo] [-use_sw_tback] [-version]\r\n",
      "\r\n",
      "DESCRIPTION\r\n",
      "   Translated Query-Protein Subject BLAST 2.2.30+\r\n",
      "\r\n",
      "OPTIONAL ARGUMENTS\r\n",
      " -h\r\n",
      "   Print USAGE and DESCRIPTION;  ignore all other parameters\r\n",
      " -help\r\n",
      "   Print USAGE, DESCRIPTION and ARGUMENTS; ignore all other parameters\r\n",
      " -version\r\n",
      "   Print version number;  ignore other arguments\r\n",
      "\r\n",
      " *** Input query options\r\n",
      " -query <File_In>\r\n",
      "   Input file name\r\n",
      "   Default = `-'\r\n",
      " -query_loc <String>\r\n",
      "   Location on the query sequence in 1-based offsets (Format: start-stop)\r\n",
      " -strand <String, `both', `minus', `plus'>\r\n",
      "   Query strand(s) to search against database/subject\r\n",
      "   Default = `both'\r\n",
      " -query_gencode <Integer, values between: 1-6, 9-16, 21-25>\r\n",
      "   Genetic code to use to translate query (see user manual for details)\r\n",
      "   Default = `1'\r\n",
      "\r\n",
      " *** General search options\r\n",
      " -task <String, Permissible values: 'blastx' 'blastx-fast' >\r\n",
      "   Task to execute\r\n",
      "   Default = `blastx'\r\n",
      " -db <String>\r\n",
      "   BLAST database name\r\n",
      "    * Incompatible with:  subject, subject_loc\r\n",
      " -out <File_Out>\r\n",
      "   Output file name\r\n",
      "   Default = `-'\r\n",
      " -evalue <Real>\r\n",
      "   Expectation value (E) threshold for saving hits \r\n",
      "   Default = `10'\r\n",
      " -word_size <Integer, >=2>\r\n",
      "   Word size for wordfinder algorithm\r\n",
      " -gapopen <Integer>\r\n",
      "   Cost to open a gap\r\n",
      " -gapextend <Integer>\r\n",
      "   Cost to extend a gap\r\n",
      " -max_intron_length <Integer, >=0>\r\n",
      "   Length of the largest intron allowed in a translated nucleotide sequence\r\n",
      "   when linking multiple distinct alignments\r\n",
      "   Default = `0'\r\n",
      " -matrix <String>\r\n",
      "   Scoring matrix name (normally BLOSUM62)\r\n",
      " -threshold <Real, >=0>\r\n",
      "   Minimum word score such that the word is added to the BLAST lookup table\r\n",
      " -comp_based_stats <String>\r\n",
      "   Use composition-based statistics:\r\n",
      "       D or d: default (equivalent to 2 )\r\n",
      "       0 or F or f: No composition-based statistics\r\n",
      "       1: Composition-based statistics as in NAR 29:2994-3005, 2001\r\n",
      "       2 or T or t : Composition-based score adjustment as in Bioinformatics\r\n",
      "   21:902-911,\r\n",
      "       2005, conditioned on sequence properties\r\n",
      "       3: Composition-based score adjustment as in Bioinformatics 21:902-911,\r\n",
      "       2005, unconditionally\r\n",
      "   Default = `2'\r\n",
      "\r\n",
      " *** BLAST-2-Sequences options\r\n",
      " -subject <File_In>\r\n",
      "   Subject sequence(s) to search\r\n",
      "    * Incompatible with:  db, gilist, seqidlist, negative_gilist,\r\n",
      "   db_soft_mask, db_hard_mask\r\n",
      " -subject_loc <String>\r\n",
      "   Location on the subject sequence in 1-based offsets (Format: start-stop)\r\n",
      "    * Incompatible with:  db, gilist, seqidlist, negative_gilist,\r\n",
      "   db_soft_mask, db_hard_mask, remote\r\n",
      "\r\n",
      " *** Formatting options\r\n",
      " -outfmt <String>\r\n",
      "   alignment view options:\r\n",
      "     0 = pairwise,\r\n",
      "     1 = query-anchored showing identities,\r\n",
      "     2 = query-anchored no identities,\r\n",
      "     3 = flat query-anchored, show identities,\r\n",
      "     4 = flat query-anchored, no identities,\r\n",
      "     5 = XML Blast output,\r\n",
      "     6 = tabular,\r\n",
      "     7 = tabular with comment lines,\r\n",
      "     8 = Text ASN.1,\r\n",
      "     9 = Binary ASN.1,\r\n",
      "    10 = Comma-separated values,\r\n",
      "    11 = BLAST archive format (ASN.1) \r\n",
      "    12 = JSON Seqalign output \r\n",
      "   \r\n",
      "   Options 6, 7, and 10 can be additionally configured to produce\r\n",
      "   a custom format specified by space delimited format specifiers.\r\n",
      "   The supported format specifiers are:\r\n",
      "   \t    qseqid means Query Seq-id\r\n",
      "   \t       qgi means Query GI\r\n",
      "   \t      qacc means Query accesion\r\n",
      "   \t   qaccver means Query accesion.version\r\n",
      "   \t      qlen means Query sequence length\r\n",
      "   \t    sseqid means Subject Seq-id\r\n",
      "   \t sallseqid means All subject Seq-id(s), separated by a ';'\r\n",
      "   \t       sgi means Subject GI\r\n",
      "   \t    sallgi means All subject GIs\r\n",
      "   \t      sacc means Subject accession\r\n",
      "   \t   saccver means Subject accession.version\r\n",
      "   \t   sallacc means All subject accessions\r\n",
      "   \t      slen means Subject sequence length\r\n",
      "   \t    qstart means Start of alignment in query\r\n",
      "   \t      qend means End of alignment in query\r\n",
      "   \t    sstart means Start of alignment in subject\r\n",
      "   \t      send means End of alignment in subject\r\n",
      "   \t      qseq means Aligned part of query sequence\r\n",
      "   \t      sseq means Aligned part of subject sequence\r\n",
      "   \t    evalue means Expect value\r\n",
      "   \t  bitscore means Bit score\r\n",
      "   \t     score means Raw score\r\n",
      "   \t    length means Alignment length\r\n",
      "   \t    pident means Percentage of identical matches\r\n",
      "   \t    nident means Number of identical matches\r\n",
      "   \t  mismatch means Number of mismatches\r\n",
      "   \t  positive means Number of positive-scoring matches\r\n",
      "   \t   gapopen means Number of gap openings\r\n",
      "   \t      gaps means Total number of gaps\r\n",
      "   \t      ppos means Percentage of positive-scoring matches\r\n",
      "   \t    frames means Query and subject frames separated by a '/'\r\n",
      "   \t    qframe means Query frame\r\n",
      "   \t    sframe means Subject frame\r\n",
      "   \t      btop means Blast traceback operations (BTOP)\r\n",
      "   \t   staxids means unique Subject Taxonomy ID(s), separated by a ';'\r\n",
      "   \t\t\t (in numerical order)\r\n",
      "   \t sscinames means unique Subject Scientific Name(s), separated by a ';'\r\n",
      "   \t scomnames means unique Subject Common Name(s), separated by a ';'\r\n",
      "   \tsblastnames means unique Subject Blast Name(s), separated by a ';'\r\n",
      "   \t\t\t (in alphabetical order)\r\n",
      "   \tsskingdoms means unique Subject Super Kingdom(s), separated by a ';'\r\n",
      "   \t\t\t (in alphabetical order) \r\n",
      "   \t    stitle means Subject Title\r\n",
      "   \tsalltitles means All Subject Title(s), separated by a '<>'\r\n",
      "   \t   sstrand means Subject Strand\r\n",
      "   \t     qcovs means Query Coverage Per Subject\r\n",
      "   \t   qcovhsp means Query Coverage Per HSP\r\n",
      "   When not provided, the default value is:\r\n",
      "   'qseqid sseqid pident length mismatch gapopen qstart qend sstart send\r\n",
      "   evalue bitscore', which is equivalent to the keyword 'std'\r\n",
      "   Default = `0'\r\n",
      " -show_gis\r\n",
      "   Show NCBI GIs in deflines?\r\n",
      " -num_descriptions <Integer, >=0>\r\n",
      "   Number of database sequences to show one-line descriptions for\r\n",
      "   Not applicable for outfmt > 4\r\n",
      "   Default = `500'\r\n",
      "    * Incompatible with:  max_target_seqs\r\n",
      " -num_alignments <Integer, >=0>\r\n",
      "   Number of database sequences to show alignments for\r\n",
      "   Default = `250'\r\n",
      "    * Incompatible with:  max_target_seqs\r\n",
      " -line_length <Integer, >=1>\r\n",
      "   Line length for formatting alignments\r\n",
      "   Not applicable for outfmt > 4\r\n",
      "   Default = `60'\r\n",
      " -html\r\n",
      "   Produce HTML output?\r\n",
      "\r\n",
      " *** Query filtering options\r\n",
      " -seg <String>\r\n",
      "   Filter query sequence with SEG (Format: 'yes', 'window locut hicut', or\r\n",
      "   'no' to disable)\r\n",
      "   Default = `12 2.2 2.5'\r\n",
      " -soft_masking <Boolean>\r\n",
      "   Apply filtering locations as soft masks\r\n",
      "   Default = `false'\r\n",
      " -lcase_masking\r\n",
      "   Use lower case filtering in query and subject sequence(s)?\r\n",
      "\r\n",
      " *** Restrict search or results\r\n",
      " -gilist <String>\r\n",
      "   Restrict search of database to list of GI's\r\n",
      "    * Incompatible with:  negative_gilist, seqidlist, remote, subject,\r\n",
      "   subject_loc\r\n",
      " -seqidlist <String>\r\n",
      "   Restrict search of database to list of SeqId's\r\n",
      "    * Incompatible with:  gilist, negative_gilist, remote, subject,\r\n",
      "   subject_loc\r\n",
      " -negative_gilist <String>\r\n",
      "   Restrict search of database to everything except the listed GIs\r\n",
      "    * Incompatible with:  gilist, seqidlist, remote, subject, subject_loc\r\n",
      " -entrez_query <String>\r\n",
      "   Restrict search with the given Entrez query\r\n",
      "    * Requires:  remote\r\n",
      " -db_soft_mask <String>\r\n",
      "   Filtering algorithm ID to apply to the BLAST database as soft masking\r\n",
      "    * Incompatible with:  db_hard_mask, subject, subject_loc\r\n",
      " -db_hard_mask <String>\r\n",
      "   Filtering algorithm ID to apply to the BLAST database as hard masking\r\n",
      "    * Incompatible with:  db_soft_mask, subject, subject_loc\r\n",
      " -qcov_hsp_perc <Real, 0..100>\r\n",
      "   Percent query coverage per hsp\r\n",
      " -culling_limit <Integer, >=0>\r\n",
      "   If the query range of a hit is enveloped by that of at least this many\r\n",
      "   higher-scoring hits, delete the hit\r\n",
      "    * Incompatible with:  best_hit_overhang, best_hit_score_edge\r\n",
      " -best_hit_overhang <Real, (>0 and <0.5)>\r\n",
      "   Best Hit algorithm overhang value (recommended value: 0.1)\r\n",
      "    * Incompatible with:  culling_limit\r\n",
      " -best_hit_score_edge <Real, (>0 and <0.5)>\r\n",
      "   Best Hit algorithm score edge value (recommended value: 0.1)\r\n",
      "    * Incompatible with:  culling_limit\r\n",
      " -max_target_seqs <Integer, >=1>\r\n",
      "   Maximum number of aligned sequences to keep \r\n",
      "   Not applicable for outfmt <= 4\r\n",
      "   Default = `500'\r\n",
      "    * Incompatible with:  num_descriptions, num_alignments\r\n",
      "\r\n",
      " *** Statistical options\r\n",
      " -dbsize <Int8>\r\n",
      "   Effective length of the database \r\n",
      " -searchsp <Int8, >=0>\r\n",
      "   Effective length of the search space\r\n",
      " -max_hsps <Integer, >=0>\r\n",
      "   Set maximum number of HSPs per subject sequence to save (0 means no limit)\r\n",
      "   Default = `0'\r\n",
      " -sum_stats <Boolean>\r\n",
      "   Use sum statistics\r\n",
      "\r\n",
      " *** Search strategy options\r\n",
      " -import_search_strategy <File_In>\r\n",
      "   Search strategy to use\r\n",
      "    * Incompatible with:  export_search_strategy\r\n",
      " -export_search_strategy <File_Out>\r\n",
      "   File name to record the search strategy used\r\n",
      "    * Incompatible with:  import_search_strategy\r\n",
      "\r\n",
      " *** Extension options\r\n",
      " -xdrop_ungap <Real>\r\n",
      "   X-dropoff value (in bits) for ungapped extensions\r\n",
      " -xdrop_gap <Real>\r\n",
      "   X-dropoff value (in bits) for preliminary gapped extensions\r\n",
      " -xdrop_gap_final <Real>\r\n",
      "   X-dropoff value (in bits) for final gapped alignment\r\n",
      " -window_size <Integer, >=0>\r\n",
      "   Multiple hits window size, use 0 to specify 1-hit algorithm\r\n",
      " -ungapped\r\n",
      "   Perform ungapped alignment only?\r\n",
      "\r\n",
      " *** Miscellaneous options\r\n",
      " -parse_deflines\r\n",
      "   Should the query and subject defline(s) be parsed?\r\n",
      " -num_threads <Integer, >=1>\r\n",
      "   Number of threads (CPUs) to use in the BLAST search\r\n",
      "   Default = `1'\r\n",
      "    * Incompatible with:  remote\r\n",
      " -remote\r\n",
      "   Execute search remotely?\r\n",
      "    * Incompatible with:  gilist, seqidlist, negative_gilist, subject_loc,\r\n",
      "   num_threads\r\n",
      " -use_sw_tback\r\n",
      "   Compute locally optimal Smith-Waterman alignments?\r\n",
      "\r\n"
     ]
    }
   ],
   "source": [
    "qseqid sseqid pident length mismatch gapopen qstart qend sstart send\n",
    "   evalue bitscore"
   ]
  },
  {
   "cell_type": "markdown",
   "metadata": {},
   "source": [
    "## Some Numbers"
   ]
  },
  {
   "cell_type": "markdown",
   "metadata": {},
   "source": [
    "   dups PMID unique evaluerange\n",
    "   4 PMI_001483-RA\n",
    "   4 PMI_001563-RA\n",
    "   4 PMI_002180-RA\n",
    "   4 PMI_004455-RA\n",
    "   4 PMI_005573-RA\n",
    "   4 PMI_006047-RA\n",
    "   4 PMI_006887-RA\n",
    "   4 PMI_006996-RA\n",
    "   4 PMI_007831-RA\n",
    "   4 PMI_009065-RA\n",
    "   4 PMI_009071-RA\n",
    "   4 PMI_013431-RA\n",
    "   4 PMI_014231-RA\n",
    "   4 PMI_015829-RA\n",
    "   4 PMI_019590-RA\n",
    "   4 PMI_020714-RA\n",
    "   4 PMI_020736-RA\n",
    "   4 PMI_023204-RA\n",
    "   4 PMI_025724-RA\n",
    "   4 PMI_028024-RA\n",
    "   5 PMI_000929-RA 2 59-0\n",
    "   5 PMI_001602-RA 3 76-0\n",
    "   5 PMI_003081-RA all 85-178\n",
    "   5 PMI_017390-RA 2 52-140\n",
    "   5 PMI_019456-RA all 62-0\n",
    "   6 PMI_000110-RA 4 94-0\n",
    "   6 PMI_013600-RA all 51-101\n",
    "   7 PMI_010001-RA 2 60-92\n",
    "   7 PMI_020859-RA 3 118-0\n",
    "   8 PMI_015266-RA 3 61-0\n",
    "  10 PMI_029345-RA all 60-107    "
   ]
  },
  {
   "cell_type": "code",
   "execution_count": null,
   "metadata": {
    "collapsed": true
   },
   "outputs": [],
   "source": [
    "SELECT \n",
    "Column9 as sstart, Column10 as send, Column11, \n",
    "Column1, Column2\n",
    "  FROM [sr320@washington.edu].[Phel_blastx_Pm_e50]\n",
    "  where Column2 like 'PMI_000929-RA'\n",
    "  order by sstart"
   ]
  },
  {
   "cell_type": "code",
   "execution_count": null,
   "metadata": {
    "collapsed": true
   },
   "outputs": [],
   "source": []
  },
  {
   "cell_type": "code",
   "execution_count": null,
   "metadata": {
    "collapsed": true
   },
   "outputs": [],
   "source": []
  },
  {
   "cell_type": "code",
   "execution_count": null,
   "metadata": {
    "collapsed": true
   },
   "outputs": [],
   "source": []
  },
  {
   "cell_type": "code",
   "execution_count": 15,
   "metadata": {
    "collapsed": false
   },
   "outputs": [
    {
     "name": "stdout",
     "output_type": "stream",
     "text": [
      "   3 PMI_009065-RA\r\n",
      "   3 PMI_009500-RA\r\n",
      "   3 PMI_011382-RA\r\n",
      "   3 PMI_013272-RA\r\n",
      "   3 PMI_013665-RA\r\n",
      "   3 PMI_015266-RA\r\n",
      "   3 PMI_017504-RA\r\n",
      "   3 PMI_018991-RA\r\n",
      "   3 PMI_020736-RA\r\n",
      "   3 PMI_023204-RA\r\n",
      "   4 PMI_000929-RA\r\n",
      "   4 PMI_001563-RA\r\n",
      "   4 PMI_001602-RA\r\n",
      "   4 PMI_003081-RA\r\n",
      "   4 PMI_004455-RA\r\n",
      "   4 PMI_009071-RA\r\n",
      "   4 PMI_015829-RA\r\n",
      "   4 PMI_028024-RA\r\n",
      "   5 PMI_000110-RA\r\n",
      "   7 PMI_020859-RA\r\n"
     ]
    }
   ],
   "source": [
    "!blastx \\\n",
    "-query ./data/Phel_transcriptome.fasta \\\n",
    "-db ./data/Pm_proteins \\\n",
    "-out ./wd/Phel_blastx_Pm_e100.tab \\\n",
    "-evalue 1E-100 \\\n",
    "-max_target_seqs 1 \\\n",
    "-max_hsps 1 \\\n",
    "-outfmt 6 \\\n",
    "-num_threads 6\n",
    "!cut -f2 ./wd/Phel_blastx_Pm_e100.tab | sort | uniq -c | sort | tail -20"
   ]
  },
  {
   "cell_type": "code",
   "execution_count": null,
   "metadata": {
    "collapsed": true
   },
   "outputs": [],
   "source": []
  }
 ],
 "metadata": {
  "kernelspec": {
   "display_name": "Python 2",
   "language": "python",
   "name": "python2"
  },
  "language_info": {
   "codemirror_mode": {
    "name": "ipython",
    "version": 2
   },
   "file_extension": ".py",
   "mimetype": "text/x-python",
   "name": "python",
   "nbconvert_exporter": "python",
   "pygments_lexer": "ipython2",
   "version": "2.7.9"
  }
 },
 "nbformat": 4,
 "nbformat_minor": 0
}
